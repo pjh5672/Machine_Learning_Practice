{
 "cells": [
  {
   "cell_type": "markdown",
   "metadata": {},
   "source": [
    "### Naive Bayes Classifier "
   ]
  },
  {
   "cell_type": "markdown",
   "metadata": {},
   "source": [
    "**1. Gaussian Naive Bayes**"
   ]
  },
  {
   "cell_type": "markdown",
   "metadata": {},
   "source": [
    "- 데이터, 모듈 불러오기"
   ]
  },
  {
   "cell_type": "code",
   "execution_count": 4,
   "metadata": {},
   "outputs": [],
   "source": [
    "import pandas as pd\n",
    "from sklearn import datasets\n",
    "from sklearn.naive_bayes import GaussianNB"
   ]
  },
  {
   "cell_type": "code",
   "execution_count": 5,
   "metadata": {},
   "outputs": [],
   "source": [
    "iris = datasets.load_iris()\n",
    "df_X = pd.DataFrame(iris.data)\n",
    "df_Y = pd.DataFrame(iris.target)"
   ]
  },
  {
   "cell_type": "code",
   "execution_count": 6,
   "metadata": {},
   "outputs": [
    {
     "data": {
      "text/html": [
       "<div>\n",
       "<style scoped>\n",
       "    .dataframe tbody tr th:only-of-type {\n",
       "        vertical-align: middle;\n",
       "    }\n",
       "\n",
       "    .dataframe tbody tr th {\n",
       "        vertical-align: top;\n",
       "    }\n",
       "\n",
       "    .dataframe thead th {\n",
       "        text-align: right;\n",
       "    }\n",
       "</style>\n",
       "<table border=\"1\" class=\"dataframe\">\n",
       "  <thead>\n",
       "    <tr style=\"text-align: right;\">\n",
       "      <th></th>\n",
       "      <th>0</th>\n",
       "      <th>1</th>\n",
       "      <th>2</th>\n",
       "      <th>3</th>\n",
       "    </tr>\n",
       "  </thead>\n",
       "  <tbody>\n",
       "    <tr>\n",
       "      <th>0</th>\n",
       "      <td>5.1</td>\n",
       "      <td>3.5</td>\n",
       "      <td>1.4</td>\n",
       "      <td>0.2</td>\n",
       "    </tr>\n",
       "    <tr>\n",
       "      <th>1</th>\n",
       "      <td>4.9</td>\n",
       "      <td>3.0</td>\n",
       "      <td>1.4</td>\n",
       "      <td>0.2</td>\n",
       "    </tr>\n",
       "    <tr>\n",
       "      <th>2</th>\n",
       "      <td>4.7</td>\n",
       "      <td>3.2</td>\n",
       "      <td>1.3</td>\n",
       "      <td>0.2</td>\n",
       "    </tr>\n",
       "    <tr>\n",
       "      <th>3</th>\n",
       "      <td>4.6</td>\n",
       "      <td>3.1</td>\n",
       "      <td>1.5</td>\n",
       "      <td>0.2</td>\n",
       "    </tr>\n",
       "    <tr>\n",
       "      <th>4</th>\n",
       "      <td>5.0</td>\n",
       "      <td>3.6</td>\n",
       "      <td>1.4</td>\n",
       "      <td>0.2</td>\n",
       "    </tr>\n",
       "  </tbody>\n",
       "</table>\n",
       "</div>"
      ],
      "text/plain": [
       "     0    1    2    3\n",
       "0  5.1  3.5  1.4  0.2\n",
       "1  4.9  3.0  1.4  0.2\n",
       "2  4.7  3.2  1.3  0.2\n",
       "3  4.6  3.1  1.5  0.2\n",
       "4  5.0  3.6  1.4  0.2"
      ]
     },
     "execution_count": 6,
     "metadata": {},
     "output_type": "execute_result"
    }
   ],
   "source": [
    "df_X.head()"
   ]
  },
  {
   "cell_type": "code",
   "execution_count": 7,
   "metadata": {},
   "outputs": [
    {
     "data": {
      "text/html": [
       "<div>\n",
       "<style scoped>\n",
       "    .dataframe tbody tr th:only-of-type {\n",
       "        vertical-align: middle;\n",
       "    }\n",
       "\n",
       "    .dataframe tbody tr th {\n",
       "        vertical-align: top;\n",
       "    }\n",
       "\n",
       "    .dataframe thead th {\n",
       "        text-align: right;\n",
       "    }\n",
       "</style>\n",
       "<table border=\"1\" class=\"dataframe\">\n",
       "  <thead>\n",
       "    <tr style=\"text-align: right;\">\n",
       "      <th></th>\n",
       "      <th>0</th>\n",
       "    </tr>\n",
       "  </thead>\n",
       "  <tbody>\n",
       "    <tr>\n",
       "      <th>0</th>\n",
       "      <td>0</td>\n",
       "    </tr>\n",
       "    <tr>\n",
       "      <th>1</th>\n",
       "      <td>0</td>\n",
       "    </tr>\n",
       "    <tr>\n",
       "      <th>2</th>\n",
       "      <td>0</td>\n",
       "    </tr>\n",
       "    <tr>\n",
       "      <th>3</th>\n",
       "      <td>0</td>\n",
       "    </tr>\n",
       "    <tr>\n",
       "      <th>4</th>\n",
       "      <td>0</td>\n",
       "    </tr>\n",
       "  </tbody>\n",
       "</table>\n",
       "</div>"
      ],
      "text/plain": [
       "   0\n",
       "0  0\n",
       "1  0\n",
       "2  0\n",
       "3  0\n",
       "4  0"
      ]
     },
     "execution_count": 7,
     "metadata": {},
     "output_type": "execute_result"
    }
   ],
   "source": [
    "df_Y.head()"
   ]
  },
  {
   "cell_type": "markdown",
   "metadata": {},
   "source": [
    "- 모델 피팅"
   ]
  },
  {
   "cell_type": "code",
   "execution_count": 8,
   "metadata": {},
   "outputs": [],
   "source": [
    "gnb = GaussianNB()\n",
    "fitted = gnb.fit(iris.data, iris.target)\n",
    "y_pred = fitted.predict(iris.data)"
   ]
  },
  {
   "cell_type": "code",
   "execution_count": 10,
   "metadata": {},
   "outputs": [
    {
     "data": {
      "text/plain": [
       "array([[1.00000000e+000, 1.51480769e-017, 2.34820051e-025],\n",
       "       [1.00000000e+000, 2.63876217e-018, 2.79566024e-025],\n",
       "       [7.27347795e-102, 9.45169639e-001, 5.48303606e-002],\n",
       "       [3.23245181e-254, 6.35381031e-011, 1.00000000e+000]])"
      ]
     },
     "execution_count": 10,
     "metadata": {},
     "output_type": "execute_result"
    }
   ],
   "source": [
    "# 1, 48, 51, 100의 데이터에 대한 클래스 확률값을 확인\n",
    "fitted.predict_proba(iris.data)[[1, 48, 51, 100]]"
   ]
  },
  {
   "cell_type": "code",
   "execution_count": 11,
   "metadata": {},
   "outputs": [
    {
     "data": {
      "text/plain": [
       "array([0, 0, 1, 2])"
      ]
     },
     "execution_count": 11,
     "metadata": {},
     "output_type": "execute_result"
    }
   ],
   "source": [
    "fitted.predict(iris.data)[[1, 48, 51, 100]]"
   ]
  },
  {
   "cell_type": "code",
   "execution_count": 12,
   "metadata": {},
   "outputs": [],
   "source": [
    "from sklearn.metrics import confusion_matrix"
   ]
  },
  {
   "cell_type": "code",
   "execution_count": 13,
   "metadata": {},
   "outputs": [
    {
     "data": {
      "text/plain": [
       "array([[50,  0,  0],\n",
       "       [ 0, 47,  3],\n",
       "       [ 0,  3, 47]], dtype=int64)"
      ]
     },
     "execution_count": 13,
     "metadata": {},
     "output_type": "execute_result"
    }
   ],
   "source": [
    "confusion_matrix(iris.target, y_pred)"
   ]
  },
  {
   "cell_type": "markdown",
   "metadata": {},
   "source": [
    "- Prior 설정하기  "
   ]
  },
  {
   "cell_type": "code",
   "execution_count": 14,
   "metadata": {},
   "outputs": [
    {
     "data": {
      "text/plain": [
       "array([[50,  0,  0],\n",
       "       [ 0, 33, 17],\n",
       "       [ 0,  0, 50]], dtype=int64)"
      ]
     },
     "execution_count": 14,
     "metadata": {},
     "output_type": "execute_result"
    }
   ],
   "source": [
    "gnb2 = GaussianNB(priors=[1/100, 1/100, 98/100])\n",
    "fitted2 = gnb2.fit(iris.data, iris.target)\n",
    "y_pred2 = fitted2.predict(iris.data)\n",
    "confusion_matrix(iris.target, y_pred2)"
   ]
  },
  {
   "cell_type": "code",
   "execution_count": 15,
   "metadata": {},
   "outputs": [
    {
     "data": {
      "text/plain": [
       "array([[50,  0,  0],\n",
       "       [ 0, 50,  0],\n",
       "       [ 0, 14, 36]], dtype=int64)"
      ]
     },
     "execution_count": 15,
     "metadata": {},
     "output_type": "execute_result"
    }
   ],
   "source": [
    "gnb2 = GaussianNB(priors=[1/100, 98/100, 1/100])\n",
    "fitted2 = gnb2.fit(iris.data, iris.target)\n",
    "y_pred2 = fitted2.predict(iris.data)\n",
    "confusion_matrix(iris.target, y_pred2)"
   ]
  },
  {
   "cell_type": "code",
   "execution_count": 17,
   "metadata": {
    "scrolled": true
   },
   "outputs": [
    {
     "data": {
      "text/plain": [
       "'\\n=> 전체 모집단 데이터에서 각 클래스에 해당할 확률값을 넣어주는 것인데, 실제로 알 수 없으니 임의로 설정하여 테스트  \\n잘 맞추고 싶은 클래스에 Prior을 높게 설정해서 나이브 베이즈드 분류모델(Classifier)의 해당 클래스에 대해 데이터를 올바르게\\n할당하도록 만들 수 있으나, 모든 클래스에 데이터가 관측될 확률이 \"1\" 이므로 다른 클래스에 대해 성능이 낮아지는\\n\"Trade-off\"가 발생한다.\\n'"
      ]
     },
     "execution_count": 17,
     "metadata": {},
     "output_type": "execute_result"
    }
   ],
   "source": [
    "\"\"\"\n",
    "=> 전체 모집단 데이터에서 각 클래스에 해당할 확률값을 넣어주는 것인데, 실제로 알 수 없으니 임의로 설정하여 테스트  \n",
    "잘 맞추고 싶은 클래스에 Prior을 높게 설정해서 나이브 베이즈드 분류모델(Classifier)의 해당 클래스에 대해 데이터를 올바르게\n",
    "할당하도록 만들 수 있으나, 모든 클래스에 데이터가 관측될 확률이 \"1\" 이므로 다른 클래스에 대해 성능이 낮아지는\n",
    "\"Trade-off\"가 발생한다.\n",
    "\"\"\""
   ]
  },
  {
   "cell_type": "markdown",
   "metadata": {},
   "source": [
    "**2. Multinomial Naive Bayes**"
   ]
  },
  {
   "cell_type": "code",
   "execution_count": 18,
   "metadata": {},
   "outputs": [],
   "source": [
    "import numpy as np\n",
    "from sklearn.naive_bayes import MultinomialNB"
   ]
  },
  {
   "cell_type": "code",
   "execution_count": 30,
   "metadata": {},
   "outputs": [],
   "source": [
    "# 100개의 변수(차원)를 가진 6개의 관측데이터(X) 와 6개의 클래스를 갖는 출력변수(y) 설정\n",
    "X = np.random.randint(6, size=(6, 100))\n",
    "y = np.array([1, 2, 3, 4, 5, 6])"
   ]
  },
  {
   "cell_type": "code",
   "execution_count": 31,
   "metadata": {},
   "outputs": [
    {
     "data": {
      "text/plain": [
       "array([[0, 3, 2, 0, 1, 3, 0, 5, 4, 1, 1, 5, 1, 2, 0, 2, 5, 1, 4, 2, 0, 4,\n",
       "        3, 2, 2, 4, 4, 2, 4, 2, 3, 3, 4, 5, 0, 5, 3, 5, 2, 1, 4, 1, 3, 0,\n",
       "        2, 4, 1, 0, 5, 5, 2, 3, 3, 5, 3, 0, 0, 5, 3, 5, 3, 1, 0, 3, 0, 4,\n",
       "        0, 4, 0, 2, 2, 4, 4, 0, 2, 0, 4, 5, 1, 1, 4, 2, 2, 5, 4, 5, 0, 3,\n",
       "        3, 2, 0, 3, 3, 1, 4, 1, 0, 4, 4, 1],\n",
       "       [2, 1, 4, 3, 5, 3, 5, 5, 0, 1, 3, 3, 3, 3, 4, 3, 3, 4, 5, 5, 5, 1,\n",
       "        1, 3, 1, 5, 5, 4, 0, 4, 5, 5, 4, 2, 5, 3, 1, 4, 2, 4, 4, 1, 1, 0,\n",
       "        5, 0, 2, 3, 3, 3, 5, 1, 5, 3, 2, 0, 1, 1, 3, 2, 5, 3, 5, 0, 0, 0,\n",
       "        4, 0, 1, 5, 3, 1, 0, 5, 1, 1, 2, 2, 2, 0, 0, 1, 0, 4, 3, 5, 1, 4,\n",
       "        4, 3, 2, 2, 1, 5, 5, 2, 4, 1, 2, 1],\n",
       "       [1, 1, 0, 3, 3, 3, 1, 3, 3, 0, 2, 4, 4, 5, 0, 0, 2, 2, 4, 5, 1, 5,\n",
       "        0, 5, 2, 1, 3, 4, 3, 0, 5, 1, 3, 4, 0, 2, 4, 2, 3, 2, 5, 2, 4, 0,\n",
       "        0, 5, 2, 2, 1, 1, 2, 5, 5, 1, 2, 4, 2, 2, 0, 5, 0, 4, 4, 0, 3, 1,\n",
       "        3, 1, 0, 3, 3, 2, 3, 1, 1, 0, 5, 5, 1, 3, 3, 0, 2, 0, 1, 5, 1, 5,\n",
       "        2, 1, 2, 3, 2, 1, 0, 0, 5, 4, 2, 4],\n",
       "       [1, 3, 0, 3, 2, 4, 2, 1, 5, 0, 1, 0, 3, 3, 4, 2, 2, 1, 0, 2, 3, 0,\n",
       "        4, 4, 3, 3, 2, 0, 0, 1, 5, 5, 1, 2, 2, 5, 0, 4, 0, 5, 3, 0, 2, 5,\n",
       "        1, 0, 5, 2, 4, 5, 5, 0, 2, 3, 4, 3, 3, 0, 3, 2, 4, 3, 3, 4, 5, 1,\n",
       "        2, 0, 0, 4, 1, 0, 0, 2, 1, 0, 2, 4, 5, 1, 5, 1, 4, 2, 1, 4, 3, 0,\n",
       "        4, 4, 1, 1, 4, 3, 3, 2, 0, 5, 3, 5],\n",
       "       [0, 0, 3, 3, 0, 4, 2, 0, 0, 2, 1, 3, 1, 3, 1, 0, 5, 3, 2, 4, 1, 1,\n",
       "        3, 2, 1, 1, 1, 3, 2, 4, 0, 4, 1, 5, 3, 0, 4, 0, 2, 0, 3, 2, 1, 3,\n",
       "        5, 5, 4, 1, 2, 1, 2, 3, 5, 3, 3, 5, 3, 1, 2, 1, 2, 5, 4, 0, 0, 0,\n",
       "        5, 0, 2, 5, 5, 3, 4, 2, 5, 5, 5, 1, 3, 5, 2, 0, 5, 3, 1, 1, 4, 1,\n",
       "        1, 5, 0, 2, 0, 3, 0, 2, 0, 2, 2, 5],\n",
       "       [4, 2, 4, 4, 1, 5, 2, 0, 2, 4, 3, 4, 1, 4, 1, 1, 2, 4, 1, 5, 0, 0,\n",
       "        1, 4, 1, 2, 1, 0, 1, 5, 2, 0, 3, 5, 2, 2, 3, 5, 3, 2, 5, 5, 4, 0,\n",
       "        3, 0, 4, 4, 4, 2, 2, 3, 2, 4, 2, 1, 1, 4, 5, 3, 2, 0, 2, 5, 0, 5,\n",
       "        2, 5, 5, 2, 4, 4, 0, 5, 5, 1, 0, 0, 4, 3, 1, 1, 4, 0, 5, 5, 1, 1,\n",
       "        3, 1, 5, 1, 3, 5, 0, 5, 1, 2, 2, 3]])"
      ]
     },
     "execution_count": 31,
     "metadata": {},
     "output_type": "execute_result"
    }
   ],
   "source": [
    "X"
   ]
  },
  {
   "cell_type": "markdown",
   "metadata": {},
   "source": [
    "- Multinomial Naive Bayes 모델 생성"
   ]
  },
  {
   "cell_type": "code",
   "execution_count": 32,
   "metadata": {},
   "outputs": [
    {
     "data": {
      "text/plain": [
       "MultinomialNB()"
      ]
     },
     "execution_count": 32,
     "metadata": {},
     "output_type": "execute_result"
    }
   ],
   "source": [
    "# 회귀분석 등의 기존 통계적 방법으로는 분석이 불가능하나 나이브 베이즈드 모델은 가능함\n",
    "clf = MultinomialNB()\n",
    "clf.fit(X, y)"
   ]
  },
  {
   "cell_type": "code",
   "execution_count": 37,
   "metadata": {},
   "outputs": [
    {
     "name": "stdout",
     "output_type": "stream",
     "text": [
      "[3]\n"
     ]
    }
   ],
   "source": [
    "# 두번째 관측데이터의 예측 클래스 확인\n",
    "print(clf.predict(X[2:3]))"
   ]
  },
  {
   "cell_type": "code",
   "execution_count": 38,
   "metadata": {},
   "outputs": [
    {
     "data": {
      "text/plain": [
       "array([[1.09499688e-33, 3.61030817e-41, 1.00000000e+00, 6.99793101e-48,\n",
       "        1.40314060e-38, 2.03742576e-47]])"
      ]
     },
     "execution_count": 38,
     "metadata": {},
     "output_type": "execute_result"
    }
   ],
   "source": [
    "# 각 클래스에 해당할 확률 확인 => 세번째 범주에 해당할 확률이 '1.0'로 가장 높다\n",
    "clf.predict_proba(X[2:3]) "
   ]
  },
  {
   "cell_type": "markdown",
   "metadata": {},
   "source": [
    "- Prior 변경"
   ]
  },
  {
   "cell_type": "code",
   "execution_count": 50,
   "metadata": {},
   "outputs": [
    {
     "data": {
      "text/plain": [
       "MultinomialNB(class_prior=[0.1, 0.5, 0.1, 0.1, 0.1, 0.1])"
      ]
     },
     "execution_count": 50,
     "metadata": {},
     "output_type": "execute_result"
    }
   ],
   "source": [
    "clf2 = MultinomialNB(class_prior=[0.1, 0.5, 0.1, 0.1, 0.1, 0.1])\n",
    "clf2.fit(X, y)"
   ]
  },
  {
   "cell_type": "code",
   "execution_count": 51,
   "metadata": {},
   "outputs": [
    {
     "data": {
      "text/plain": [
       "array([[1.09499688e-33, 1.80515409e-40, 1.00000000e+00, 6.99793101e-48,\n",
       "        1.40314060e-38, 2.03742576e-47]])"
      ]
     },
     "execution_count": 51,
     "metadata": {},
     "output_type": "execute_result"
    }
   ],
   "source": [
    "clf2.predict_proba(X[2:3])"
   ]
  },
  {
   "cell_type": "code",
   "execution_count": 52,
   "metadata": {},
   "outputs": [
    {
     "data": {
      "text/plain": [
       "'\\n각 클래스에 속할 Prior 값을 높게 설정하면 해당 클래스에 속할 예측확률이 증가하고, \\n반대로 낮게 설정하면 해당 클래스에 속할 예측확률이 낮아지게 된다.\\n'"
      ]
     },
     "execution_count": 52,
     "metadata": {},
     "output_type": "execute_result"
    }
   ],
   "source": [
    "\"\"\"\n",
    "각 클래스에 속할 Prior 값을 높게 설정하면 해당 클래스에 속할 예측확률이 증가하고, \n",
    "반대로 낮게 설정하면 해당 클래스에 속할 예측확률이 낮아지게 된다.\n",
    "\"\"\""
   ]
  },
  {
   "cell_type": "code",
   "execution_count": null,
   "metadata": {},
   "outputs": [],
   "source": []
  }
 ],
 "metadata": {
  "kernelspec": {
   "display_name": "Python 3",
   "language": "python",
   "name": "python3"
  },
  "language_info": {
   "codemirror_mode": {
    "name": "ipython",
    "version": 3
   },
   "file_extension": ".py",
   "mimetype": "text/x-python",
   "name": "python",
   "nbconvert_exporter": "python",
   "pygments_lexer": "ipython3",
   "version": "3.7.0"
  }
 },
 "nbformat": 4,
 "nbformat_minor": 4
}
